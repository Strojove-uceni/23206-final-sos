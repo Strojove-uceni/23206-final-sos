{
  "cells": [
    {
      "cell_type": "markdown",
      "metadata": {
        "id": "KYBKYVQUiWh8"
      },
      "source": [
        "#Packages"
      ]
    },
    {
      "cell_type": "code",
      "execution_count": 1,
      "metadata": {
        "colab": {
          "base_uri": "https://localhost:8080/"
        },
        "id": "Iltbh5HltKwk",
        "outputId": "490a4987-2fe5-4ff1-fac0-220a65820f32"
      },
      "outputs": [
        {
          "output_type": "stream",
          "name": "stdout",
          "text": [
            "Requirement already satisfied: Pillow in /usr/local/lib/python3.10/dist-packages (9.4.0)\n"
          ]
        }
      ],
      "source": [
        "!pip install Pillow"
      ]
    },
    {
      "cell_type": "code",
      "execution_count": 2,
      "metadata": {
        "colab": {
          "base_uri": "https://localhost:8080/"
        },
        "id": "syxZC4kK2UnZ",
        "outputId": "6f335baa-870b-485f-c6fd-c93c10f8ae94"
      },
      "outputs": [
        {
          "output_type": "stream",
          "name": "stdout",
          "text": [
            "Requirement already satisfied: opencv-python in /usr/local/lib/python3.10/dist-packages (4.8.0.76)\n",
            "Requirement already satisfied: numpy>=1.21.2 in /usr/local/lib/python3.10/dist-packages (from opencv-python) (1.23.5)\n"
          ]
        }
      ],
      "source": [
        "!pip install opencv-python"
      ]
    },
    {
      "cell_type": "code",
      "execution_count": 3,
      "metadata": {
        "colab": {
          "base_uri": "https://localhost:8080/"
        },
        "id": "hsAfKIgO8ZX1",
        "outputId": "350bc669-7c6c-4d21-b577-457dc94309b2"
      },
      "outputs": [
        {
          "output_type": "stream",
          "name": "stdout",
          "text": [
            "Collecting lightning\n",
            "  Downloading lightning-2.1.2-py3-none-any.whl (2.0 MB)\n",
            "\u001b[2K     \u001b[90m━━━━━━━━━━━━━━━━━━━━━━━━━━━━━━━━━━━━━━━━\u001b[0m \u001b[32m2.0/2.0 MB\u001b[0m \u001b[31m9.7 MB/s\u001b[0m eta \u001b[36m0:00:00\u001b[0m\n",
            "\u001b[?25hRequirement already satisfied: PyYAML<8.0,>=5.4 in /usr/local/lib/python3.10/dist-packages (from lightning) (6.0.1)\n",
            "Requirement already satisfied: fsspec[http]<2025.0,>2021.06.0 in /usr/local/lib/python3.10/dist-packages (from lightning) (2023.6.0)\n",
            "Collecting lightning-utilities<2.0,>=0.8.0 (from lightning)\n",
            "  Downloading lightning_utilities-0.10.0-py3-none-any.whl (24 kB)\n",
            "Requirement already satisfied: numpy<3.0,>=1.17.2 in /usr/local/lib/python3.10/dist-packages (from lightning) (1.23.5)\n",
            "Requirement already satisfied: packaging<25.0,>=20.0 in /usr/local/lib/python3.10/dist-packages (from lightning) (23.2)\n",
            "Requirement already satisfied: torch<4.0,>=1.12.0 in /usr/local/lib/python3.10/dist-packages (from lightning) (2.1.0+cu118)\n",
            "Collecting torchmetrics<3.0,>=0.7.0 (from lightning)\n",
            "  Downloading torchmetrics-1.2.1-py3-none-any.whl (806 kB)\n",
            "\u001b[2K     \u001b[90m━━━━━━━━━━━━━━━━━━━━━━━━━━━━━━━━━━━━━━━━\u001b[0m \u001b[32m806.1/806.1 kB\u001b[0m \u001b[31m54.0 MB/s\u001b[0m eta \u001b[36m0:00:00\u001b[0m\n",
            "\u001b[?25hRequirement already satisfied: tqdm<6.0,>=4.57.0 in /usr/local/lib/python3.10/dist-packages (from lightning) (4.66.1)\n",
            "Requirement already satisfied: typing-extensions<6.0,>=4.0.0 in /usr/local/lib/python3.10/dist-packages (from lightning) (4.5.0)\n",
            "Collecting pytorch-lightning (from lightning)\n",
            "  Downloading pytorch_lightning-2.1.2-py3-none-any.whl (776 kB)\n",
            "\u001b[2K     \u001b[90m━━━━━━━━━━━━━━━━━━━━━━━━━━━━━━━━━━━━━━━━\u001b[0m \u001b[32m776.9/776.9 kB\u001b[0m \u001b[31m58.8 MB/s\u001b[0m eta \u001b[36m0:00:00\u001b[0m\n",
            "\u001b[?25hRequirement already satisfied: requests in /usr/local/lib/python3.10/dist-packages (from fsspec[http]<2025.0,>2021.06.0->lightning) (2.31.0)\n",
            "Requirement already satisfied: aiohttp!=4.0.0a0,!=4.0.0a1 in /usr/local/lib/python3.10/dist-packages (from fsspec[http]<2025.0,>2021.06.0->lightning) (3.9.1)\n",
            "Requirement already satisfied: setuptools in /usr/local/lib/python3.10/dist-packages (from lightning-utilities<2.0,>=0.8.0->lightning) (67.7.2)\n",
            "Requirement already satisfied: filelock in /usr/local/lib/python3.10/dist-packages (from torch<4.0,>=1.12.0->lightning) (3.13.1)\n",
            "Requirement already satisfied: sympy in /usr/local/lib/python3.10/dist-packages (from torch<4.0,>=1.12.0->lightning) (1.12)\n",
            "Requirement already satisfied: networkx in /usr/local/lib/python3.10/dist-packages (from torch<4.0,>=1.12.0->lightning) (3.2.1)\n",
            "Requirement already satisfied: jinja2 in /usr/local/lib/python3.10/dist-packages (from torch<4.0,>=1.12.0->lightning) (3.1.2)\n",
            "Requirement already satisfied: triton==2.1.0 in /usr/local/lib/python3.10/dist-packages (from torch<4.0,>=1.12.0->lightning) (2.1.0)\n",
            "Requirement already satisfied: attrs>=17.3.0 in /usr/local/lib/python3.10/dist-packages (from aiohttp!=4.0.0a0,!=4.0.0a1->fsspec[http]<2025.0,>2021.06.0->lightning) (23.1.0)\n",
            "Requirement already satisfied: multidict<7.0,>=4.5 in /usr/local/lib/python3.10/dist-packages (from aiohttp!=4.0.0a0,!=4.0.0a1->fsspec[http]<2025.0,>2021.06.0->lightning) (6.0.4)\n",
            "Requirement already satisfied: yarl<2.0,>=1.0 in /usr/local/lib/python3.10/dist-packages (from aiohttp!=4.0.0a0,!=4.0.0a1->fsspec[http]<2025.0,>2021.06.0->lightning) (1.9.3)\n",
            "Requirement already satisfied: frozenlist>=1.1.1 in /usr/local/lib/python3.10/dist-packages (from aiohttp!=4.0.0a0,!=4.0.0a1->fsspec[http]<2025.0,>2021.06.0->lightning) (1.4.0)\n",
            "Requirement already satisfied: aiosignal>=1.1.2 in /usr/local/lib/python3.10/dist-packages (from aiohttp!=4.0.0a0,!=4.0.0a1->fsspec[http]<2025.0,>2021.06.0->lightning) (1.3.1)\n",
            "Requirement already satisfied: async-timeout<5.0,>=4.0 in /usr/local/lib/python3.10/dist-packages (from aiohttp!=4.0.0a0,!=4.0.0a1->fsspec[http]<2025.0,>2021.06.0->lightning) (4.0.3)\n",
            "Requirement already satisfied: MarkupSafe>=2.0 in /usr/local/lib/python3.10/dist-packages (from jinja2->torch<4.0,>=1.12.0->lightning) (2.1.3)\n",
            "Requirement already satisfied: charset-normalizer<4,>=2 in /usr/local/lib/python3.10/dist-packages (from requests->fsspec[http]<2025.0,>2021.06.0->lightning) (3.3.2)\n",
            "Requirement already satisfied: idna<4,>=2.5 in /usr/local/lib/python3.10/dist-packages (from requests->fsspec[http]<2025.0,>2021.06.0->lightning) (3.6)\n",
            "Requirement already satisfied: urllib3<3,>=1.21.1 in /usr/local/lib/python3.10/dist-packages (from requests->fsspec[http]<2025.0,>2021.06.0->lightning) (2.0.7)\n",
            "Requirement already satisfied: certifi>=2017.4.17 in /usr/local/lib/python3.10/dist-packages (from requests->fsspec[http]<2025.0,>2021.06.0->lightning) (2023.11.17)\n",
            "Requirement already satisfied: mpmath>=0.19 in /usr/local/lib/python3.10/dist-packages (from sympy->torch<4.0,>=1.12.0->lightning) (1.3.0)\n",
            "Installing collected packages: lightning-utilities, torchmetrics, pytorch-lightning, lightning\n",
            "Successfully installed lightning-2.1.2 lightning-utilities-0.10.0 pytorch-lightning-2.1.2 torchmetrics-1.2.1\n",
            "Requirement already satisfied: torchvision in /usr/local/lib/python3.10/dist-packages (0.16.0+cu118)\n",
            "Requirement already satisfied: numpy in /usr/local/lib/python3.10/dist-packages (from torchvision) (1.23.5)\n",
            "Requirement already satisfied: requests in /usr/local/lib/python3.10/dist-packages (from torchvision) (2.31.0)\n",
            "Requirement already satisfied: torch==2.1.0 in /usr/local/lib/python3.10/dist-packages (from torchvision) (2.1.0+cu118)\n",
            "Requirement already satisfied: pillow!=8.3.*,>=5.3.0 in /usr/local/lib/python3.10/dist-packages (from torchvision) (9.4.0)\n",
            "Requirement already satisfied: filelock in /usr/local/lib/python3.10/dist-packages (from torch==2.1.0->torchvision) (3.13.1)\n",
            "Requirement already satisfied: typing-extensions in /usr/local/lib/python3.10/dist-packages (from torch==2.1.0->torchvision) (4.5.0)\n",
            "Requirement already satisfied: sympy in /usr/local/lib/python3.10/dist-packages (from torch==2.1.0->torchvision) (1.12)\n",
            "Requirement already satisfied: networkx in /usr/local/lib/python3.10/dist-packages (from torch==2.1.0->torchvision) (3.2.1)\n",
            "Requirement already satisfied: jinja2 in /usr/local/lib/python3.10/dist-packages (from torch==2.1.0->torchvision) (3.1.2)\n",
            "Requirement already satisfied: fsspec in /usr/local/lib/python3.10/dist-packages (from torch==2.1.0->torchvision) (2023.6.0)\n",
            "Requirement already satisfied: triton==2.1.0 in /usr/local/lib/python3.10/dist-packages (from torch==2.1.0->torchvision) (2.1.0)\n",
            "Requirement already satisfied: charset-normalizer<4,>=2 in /usr/local/lib/python3.10/dist-packages (from requests->torchvision) (3.3.2)\n",
            "Requirement already satisfied: idna<4,>=2.5 in /usr/local/lib/python3.10/dist-packages (from requests->torchvision) (3.6)\n",
            "Requirement already satisfied: urllib3<3,>=1.21.1 in /usr/local/lib/python3.10/dist-packages (from requests->torchvision) (2.0.7)\n",
            "Requirement already satisfied: certifi>=2017.4.17 in /usr/local/lib/python3.10/dist-packages (from requests->torchvision) (2023.11.17)\n",
            "Requirement already satisfied: MarkupSafe>=2.0 in /usr/local/lib/python3.10/dist-packages (from jinja2->torch==2.1.0->torchvision) (2.1.3)\n",
            "Requirement already satisfied: mpmath>=0.19 in /usr/local/lib/python3.10/dist-packages (from sympy->torch==2.1.0->torchvision) (1.3.0)\n"
          ]
        }
      ],
      "source": [
        "import os\n",
        "import tarfile\n",
        "import numpy as np\n",
        "import pandas as pd\n",
        "import matplotlib.pyplot as plt\n",
        "from tqdm import tqdm\n",
        "from io import BytesIO\n",
        "from zipfile import ZipFile\n",
        "from urllib.request import urlopen\n",
        "import os\n",
        "from PIL import Image\n",
        "from datetime import datetime\n",
        "\n",
        "!pip install lightning\n",
        "\n",
        "import logging\n",
        "import typing\n",
        "import logging\n",
        "import torch\n",
        "import torch.nn as nn\n",
        "import torch.optim as optim\n",
        "import torch.nn.functional as F\n",
        "\n",
        "!pip install torchvision\n",
        "\n",
        "import lightning.pytorch as pl\n",
        "from lightning.pytorch.loggers import CSVLogger, WandbLogger\n",
        "\n",
        "import torchvision\n",
        "\n",
        "from torch.utils.data import DataLoader, Dataset, TensorDataset, random_split\n",
        "from torchvision import transforms\n",
        "from torchvision.transforms import Compose, ToTensor, Normalize, \\\n",
        "ToPILImage, Resize, ColorJitter, RandomRotation, RandomAffine, RandomErasing\n",
        "from torchvision.datasets import ImageFolder"
      ]
    },
    {
      "cell_type": "markdown",
      "metadata": {
        "id": "9iJ9c1nqD7hX"
      },
      "source": [
        "#HelpFunctions"
      ]
    },
    {
      "cell_type": "markdown",
      "metadata": {
        "id": "Tuu9FIDOJuya"
      },
      "source": [
        "##Transformers\n",
        "This class provides a template for implementing custom transformers in a data processing pipeline. Subclasses are expected to override the `__call__` method to define the specific transformation logic for the data and labels. The class also includes logging capabilities for convenient debugging and monitoring."
      ]
    },
    {
      "cell_type": "markdown",
      "metadata": {
        "id": "m1jHOKUJlqh4"
      },
      "source": [
        "Specific transformers are then as follows:"
      ]
    },
    {
      "cell_type": "code",
      "execution_count": 4,
      "metadata": {
        "id": "Lsc62KLdqDrf"
      },
      "outputs": [],
      "source": [
        "class ImageShowMatplotlib:\n",
        "    \"\"\"Show image for visual inspection using matplotlib\n",
        "    \"\"\"\n",
        "    def __init__(\n",
        "        self,\n",
        "        verbose: bool = True,\n",
        "        log_level: int = logging.INFO,\n",
        "        name: str = \"Image\"\n",
        "        ) -> None:\n",
        "        \"\"\"\n",
        "        Args:\n",
        "            verbose (bool): Whether to log label\n",
        "            log_level (int): Logging level (default: logging.INFO)\n",
        "            name (str): Name of window to show image\n",
        "        \"\"\"\n",
        "        self.verbose = verbose\n",
        "        self.name = name\n",
        "\n",
        "    def __call__(self, image: Image.Image, label: typing.Any) -> typing.Tuple[Image.Image, typing.Any]:\n",
        "        \"\"\" Show image for visual inspection using matplotlib\n",
        "\n",
        "        Args:\n",
        "            image (Image.Image): Image data\n",
        "            label (typing.Any): Label data\n",
        "\n",
        "        Returns:\n",
        "            image (Image.Image): Image data\n",
        "            label (typing.Any): Label data (unchanged)\n",
        "        \"\"\"\n",
        "        if self.verbose:\n",
        "            if isinstance(label, (str, int, float)):\n",
        "                self.logger.info(f\"Label: {label}\")\n",
        "\n",
        "        plt.imshow(np.array(image))\n",
        "        plt.title(self.name)\n",
        "        plt.show()\n",
        "\n",
        "        if isinstance(label, Image.Image):\n",
        "            plt.imshow(np.array(label))\n",
        "            plt.title(self.name + \" Label\")\n",
        "            plt.show()\n",
        "\n",
        "        return image, label"
      ]
    },
    {
      "cell_type": "markdown",
      "metadata": {
        "id": "SZlrT77slEO3"
      },
      "source": [
        "##Randomness decorator\n",
        "It provides a way to introduce randomness to the augmentation process, and it ensures type checking for the data parameter."
      ]
    },
    {
      "cell_type": "markdown",
      "source": [],
      "metadata": {
        "id": "M4y2Jg1vKU_J"
      }
    },
    {
      "cell_type": "code",
      "execution_count": 5,
      "metadata": {
        "id": "Gie2s4sdlKI8"
      },
      "outputs": [],
      "source": [
        "def randomness_decorator(func):\n",
        "    # Decorator for randomness\n",
        "\n",
        "    def wrapper(self, data: Image, annotation: typing.Any) -> typing.Tuple[Image, typing.Any]:\n",
        "        \"\"\" Decorator for randomness and type checking\n",
        "\n",
        "        Args:\n",
        "            data (Image): Image object to be adjusted\n",
        "            annotation (typing.Any): Annotation to be adjusted\n",
        "\n",
        "        Returns:\n",
        "            data (Image): Adjusted image\n",
        "            annotation (typing.Any): Adjusted annotation\n",
        "        \"\"\"\n",
        "        # Check if 'data' is an instance of the 'Image' class\n",
        "        if not isinstance(data, Image):\n",
        "            # Log an error if 'data' is not an Image object\n",
        "            self.logger.error(f\"data must be Image object, not {type(data)}, skipping augmentor\")\n",
        "            # TODO instead of error, convert image into Image object\n",
        "            return data, annotation\n",
        "\n",
        "        # Apply randomness: if random condition is not met, return original data\n",
        "        if np.random.rand() > self._random_chance:\n",
        "            return data, annotation\n",
        "\n",
        "        # Return the result of the original function\n",
        "        return func(self, data, annotation)\n",
        "\n",
        "    return wrapper"
      ]
    },
    {
      "cell_type": "markdown",
      "metadata": {
        "id": "uABq9wbPlLQ4"
      },
      "source": [
        "##Augmentor\n",
        "This class serves as a base class for augmentors, providing a common structure for image augmentation operations. They are used to introduce variability and improve the model's generalization."
      ]
    },
    {
      "cell_type": "markdown",
      "metadata": {
        "id": "YN1KeonRoyfe"
      },
      "source": [
        "#Download_and_unzip"
      ]
    },
    {
      "cell_type": "code",
      "execution_count": 6,
      "metadata": {
        "id": "Kw4zsrbJ-69D"
      },
      "outputs": [],
      "source": [
        "def download_and_unzip(url, extract_to='Datasets', chunk_size=1024*1024):\n",
        "    http_response = urlopen(url)\n",
        "\n",
        "    data = b''\n",
        "    iterations = http_response.length // chunk_size + 1\n",
        "    for _ in tqdm(range(iterations)):\n",
        "        data += http_response.read(chunk_size)\n",
        "\n",
        "    zipfile = ZipFile(BytesIO(data))\n",
        "    zipfile.extractall(path=extract_to)"
      ]
    },
    {
      "cell_type": "markdown",
      "metadata": {
        "id": "Xm_0Puq9o2gN"
      },
      "source": [
        "#Get data"
      ]
    },
    {
      "cell_type": "code",
      "execution_count": 7,
      "metadata": {
        "colab": {
          "base_uri": "https://localhost:8080/"
        },
        "id": "6Jp1SDtJov2S",
        "outputId": "7c298314-2c75-4f70-b140-d908395b17f9",
        "scrolled": true
      },
      "outputs": [
        {
          "output_type": "stream",
          "name": "stderr",
          "text": [
            "100%|██████████| 784/784 [04:38<00:00,  2.81it/s]\n",
            "  4%|▍         | 4691/115338 [00:02<00:44, 2486.43it/s]"
          ]
        },
        {
          "output_type": "stream",
          "name": "stdout",
          "text": [
            "Error opening image: Datasets/IAM_Words/words/a01/a01-117/a01-117-05-02.png, cannot identify image file 'Datasets/IAM_Words/words/a01/a01-117/a01-117-05-02.png'\n"
          ]
        },
        {
          "output_type": "stream",
          "name": "stderr",
          "text": [
            " 99%|█████████▉| 113909/115338 [00:40<00:00, 2451.22it/s]"
          ]
        },
        {
          "output_type": "stream",
          "name": "stdout",
          "text": [
            "Error opening image: Datasets/IAM_Words/words/r06/r06-022/r06-022-03-05.png, cannot identify image file 'Datasets/IAM_Words/words/r06/r06-022/r06-022-03-05.png'\n"
          ]
        },
        {
          "output_type": "stream",
          "name": "stderr",
          "text": [
            "100%|██████████| 115338/115338 [00:41<00:00, 2770.75it/s]\n"
          ]
        }
      ],
      "source": [
        "dataset_path = os.path.join('Datasets', 'IAM_Words')\n",
        "if not os.path.exists(dataset_path):\n",
        "    download_and_unzip('https://git.io/J0fjL', extract_to='Datasets')\n",
        "\n",
        "    file = tarfile.open(os.path.join(dataset_path, \"words.tgz\"))\n",
        "    file.extractall(os.path.join(dataset_path, \"words\"))\n",
        "\n",
        "\n",
        "dataset, vocab, max_len = [], set(), 0\n",
        "\n",
        "# Preprocess the dataset by the specific IAM_Words dataset file structure\n",
        "words = open(os.path.join(dataset_path, \"words.txt\"), \"r\").readlines()\n",
        "for line in tqdm(words):\n",
        "    if line.startswith(\"#\"):\n",
        "        continue\n",
        "\n",
        "    line_split = line.split(\" \")\n",
        "    if line_split[1] == \"err\":\n",
        "        continue\n",
        "\n",
        "    folder1 = line_split[0][:3] # extract the folder name\n",
        "    folder2 = \"-\".join(line_split[0].split(\"-\")[:2]) # extract the sub-folder name\n",
        "    file_name = line_split[0] + \".png\" # extract the file name\n",
        "    label = line_split[-1].rstrip('\\n') # the label, last element of row, remove the \\n at the end\n",
        "\n",
        "    # the relative path to the image file\n",
        "    rel_path = os.path.join(dataset_path, \"words\", folder1, folder2, file_name)\n",
        "    try:\n",
        "        # Attempt to open the image\n",
        "        image = Image.open(rel_path).convert(\"RGB\")\n",
        "    except (Image.UnidentifiedImageError, OSError) as e:\n",
        "        print(f\"Error opening image: {rel_path}, {e}\")\n",
        "        continue\n",
        "\n",
        "    # append path and the label to dataset\n",
        "    dataset.append([rel_path, label])\n",
        "\n",
        "    # append label to vocab\n",
        "    vocab.update(list(label))\n",
        "\n",
        "    # length of the longest word\n",
        "    max_len = max(max_len, len(label))"
      ]
    },
    {
      "cell_type": "code",
      "execution_count": 8,
      "metadata": {
        "id": "1xeuTkEzZsyP"
      },
      "outputs": [],
      "source": [
        "vocab = \"\".join(sorted(vocab))"
      ]
    },
    {
      "cell_type": "code",
      "execution_count": 9,
      "metadata": {
        "colab": {
          "base_uri": "https://localhost:8080/"
        },
        "id": "r27-WTY8Zugr",
        "outputId": "43640e92-4e82-44ce-e72d-07660285ecc2"
      },
      "outputs": [
        {
          "output_type": "stream",
          "name": "stdout",
          "text": [
            "!\"#&'()*+,-./0123456789:;?ABCDEFGHIJKLMNOPQRSTUVWXYZabcdefghijklmnopqrstuvwxyz\n"
          ]
        }
      ],
      "source": [
        "print(vocab)"
      ]
    },
    {
      "cell_type": "code",
      "execution_count": 10,
      "metadata": {
        "colab": {
          "base_uri": "https://localhost:8080/"
        },
        "id": "_fwkBDYHbEvl",
        "outputId": "efae149f-071d-4281-892d-52920eef94b1"
      },
      "outputs": [
        {
          "output_type": "stream",
          "name": "stdout",
          "text": [
            "[67 56 71 56 69 52 64 56 69 60 54 52  9 76 66 72]\n"
          ]
        }
      ],
      "source": [
        "labelx = ['peter', 'america', ',', 'you']\n",
        "\n",
        "indices_array = np.array([vocab.index(l) for word in labelx for l in word if l in vocab])\n",
        "print(indices_array)"
      ]
    },
    {
      "cell_type": "code",
      "source": [
        "reconstructed_word = ''.join(vocab[i] for i in indices_array)\n",
        "print(reconstructed_word)"
      ],
      "metadata": {
        "id": "MZM9ooUJU9bl",
        "outputId": "14d61589-292c-493e-a108-b9a7c8f077b4",
        "colab": {
          "base_uri": "https://localhost:8080/"
        }
      },
      "execution_count": 35,
      "outputs": [
        {
          "output_type": "stream",
          "name": "stdout",
          "text": [
            "peteramerica,you\n"
          ]
        }
      ]
    },
    {
      "cell_type": "markdown",
      "metadata": {
        "id": "Jyw8zWjxl4aP"
      },
      "source": [
        "#Convolution block"
      ]
    },
    {
      "cell_type": "code",
      "execution_count": 11,
      "metadata": {
        "id": "a5ZwC8qIfbo_"
      },
      "outputs": [],
      "source": [
        "def activation_layer(activation: str=\"relu\", alpha: float=0.1, inplace: bool=True):\n",
        "    \"\"\" Activation layer wrapper for LeakyReLU and ReLU activation functions\n",
        "\n",
        "    Args:\n",
        "        activation: str, activation function name (default: 'relu')\n",
        "        alpha: float (LeakyReLU activation function parameter)\n",
        "\n",
        "    Returns:\n",
        "        torch.Tensor: activation layer\n",
        "    \"\"\"\n",
        "    if activation == \"relu\":\n",
        "        return nn.ReLU(inplace=inplace)\n",
        "\n",
        "    elif activation == \"leaky_relu\":\n",
        "        return nn.LeakyReLU(negative_slope=alpha, inplace=inplace)\n",
        "\n",
        "\n",
        "class ConvBlock(nn.Module):\n",
        "    \"\"\" Convolutional block with batch normalization\n",
        "    \"\"\"\n",
        "    def __init__(self, in_channels: int, out_channels: int, kernel_size: int, stride: int, padding: int):\n",
        "        super(ConvBlock, self).__init__()\n",
        "        self.conv = nn.Conv2d(in_channels, out_channels, kernel_size=kernel_size, stride=stride, padding=padding)\n",
        "        self.bn = nn.BatchNorm2d(out_channels)\n",
        "\n",
        "    def forward(self, x: torch.Tensor):\n",
        "        return self.bn(self.conv(x))\n",
        "\n",
        "\n",
        "class ResidualBlock(nn.Module):\n",
        "    def __init__(self, in_channels, out_channels, skip_conv=True, stride=1, dropout=0.2, activation=\"leaky_relu\"):\n",
        "        super(ResidualBlock, self).__init__()\n",
        "        self.convb1 = ConvBlock(in_channels, out_channels, kernel_size=3, stride=stride, padding=1)\n",
        "        self.act1 = activation_layer(activation)\n",
        "\n",
        "        self.convb2 = ConvBlock(out_channels, out_channels, kernel_size=3, stride=1, padding=1)\n",
        "\n",
        "        self.dropout = nn.Dropout(p=dropout)\n",
        "\n",
        "        self.shortcut = None\n",
        "        if skip_conv:\n",
        "            if stride != 1 or in_channels != out_channels:\n",
        "                self.shortcut = nn.Conv2d(in_channels, out_channels, kernel_size=1, stride=stride)\n",
        "\n",
        "        self.act2 = activation_layer(activation)\n",
        "\n",
        "    def forward(self, x):\n",
        "        skip = x\n",
        "\n",
        "        out = self.act1(self.convb1(x))\n",
        "        out = self.convb2(out)\n",
        "\n",
        "        if self.shortcut is not None:\n",
        "            out += self.shortcut(skip)\n",
        "\n",
        "        out = self.act2(out)\n",
        "        out = self.dropout(out)\n",
        "\n",
        "        return out"
      ]
    },
    {
      "cell_type": "markdown",
      "metadata": {
        "id": "yHHBDiRD4Qsx"
      },
      "source": [
        "#DataModule"
      ]
    },
    {
      "cell_type": "code",
      "execution_count": 26,
      "metadata": {
        "id": "G32KwhytREZT"
      },
      "outputs": [],
      "source": [
        "class IAMWordsDataset(Dataset):\n",
        "    def __init__(self, dataset, vocab, max_len, split=\"train\", train_val_split=0.9):\n",
        "        self.dataset = dataset\n",
        "        self.vocab = vocab\n",
        "        self.max_len = max_len\n",
        "        self.split = split\n",
        "        self.train_val_split = train_val_split\n",
        "\n",
        "        # maybe it should be assigned own vocab and max_len to train/val dataset, but idk\n",
        "        if self.split == \"train\":\n",
        "            self.dataset = self.dataset[:int(len(self.dataset) * self.train_val_split)]\n",
        "        elif self.split == \"val\":\n",
        "            self.dataset = self.dataset[int(len(self.dataset) * self.train_val_split):]\n",
        "\n",
        "    def __len__(self):\n",
        "        return len(self.dataset)\n",
        "\n",
        "    def __getitem__(self, idx):\n",
        "        image_path, label = self.dataset[idx]\n",
        "        image = Image.open(image_path).convert(\"RGB\")\n",
        "#------------------------------------------------------------------------------\n",
        "        #print(\"Hello World\")\n",
        "        #torch.cuda.synchronize(print(f\"Loaded image size: {image.size}\"))\n",
        "#------------------------------------------------------------------------------\n",
        "        return image, label\n",
        "\n",
        "\n",
        "class TextRecognitionDataModule(pl.LightningDataModule):\n",
        "    def __init__(self, dataset, vocab, max_len, batch_size=16):\n",
        "        super().__init__()\n",
        "        self.batch_size = batch_size\n",
        "        self.dataset = dataset\n",
        "        self.vocab = vocab\n",
        "        self.max_len = max_len\n",
        "\n",
        "    def setup(self, stage=None):\n",
        "        # Load dataset and build normalizer\n",
        "        self.train_dataset = IAMWordsDataset(self.dataset, self.vocab, self.max_len, split=\"train\")\n",
        "        self.val_dataset = IAMWordsDataset(self.dataset, self.vocab, self.max_len, split=\"val\")\n",
        "\n",
        "\n",
        "    def train_dataloader(self):\n",
        "        print(\"Train Dataloader called\")\n",
        "        return DataLoader(self.train_dataset, batch_size=self.batch_size, shuffle=True,\n",
        "                          collate_fn=lambda batch: self.custom_collate(batch))\n",
        "\n",
        "    def val_dataloader(self):\n",
        "        print(\"Validation Dataloader called\")\n",
        "        return DataLoader(self.val_dataset, batch_size=self.batch_size,\n",
        "                          collate_fn=lambda batch: self.custom_collate(batch))\n",
        "\n",
        "    # ensure the same size of images and convert it to tensor\n",
        "    def custom_collate(self, batch):\n",
        "        images, labels = zip(*batch)\n",
        "        #print(labels)\n",
        "\n",
        "        #--------------------------------------------------------------------\n",
        "        # Print the shape of images before processing\n",
        "        #for img in images:\n",
        "            #print(f\"Original image size: {img.size}\")\n",
        "        #--------------------------------------------------------------------\n",
        "\n",
        "        # Resize all images to a consistent size (e.g., 128x32)\n",
        "        transform = transforms.Compose([\n",
        "            Resize((128, 32)),\n",
        "            ColorJitter(brightness=0.5),\n",
        "            RandomRotation(degrees=30),\n",
        "            #RandomAffine(degrees=0, shear=10),\n",
        "            #RandomAffine(degrees=0, translate=(0.1, 0.1)),\n",
        "            #RandomAffine(degrees=0, scale=(0.8, 1.2)),\n",
        "            #RandomErasing(),\n",
        "            ToTensor()])\n",
        "\n",
        "        images = [transform(image) for image in images]\n",
        "\n",
        "        # Convert labels to integer tensors\n",
        "\n",
        "        converted_labels = []\n",
        "        for label in labels:\n",
        "            converted_label = [self.vocab.index(l) for l in label if l in self.vocab]\n",
        "            converted_labels.append(torch.tensor(converted_label, dtype=torch.long))\n",
        "\n",
        "        #print(converted_labels)\n",
        "\n",
        "        # Pad the labels to the same length for batch processing\n",
        "        padded_labels = torch.nn.utils.rnn.pad_sequence(converted_labels,\n",
        "                                                        batch_first=True,\n",
        "                                                        padding_value=0)\n",
        "        return torch.stack(images), padded_labels\n"
      ]
    },
    {
      "cell_type": "markdown",
      "metadata": {
        "id": "hbr11bfeeQ6C"
      },
      "source": [
        "#CNN model"
      ]
    },
    {
      "cell_type": "code",
      "execution_count": 13,
      "metadata": {
        "id": "iK6OYgPX4W1A"
      },
      "outputs": [],
      "source": [
        "class CNNmodel(pl.LightningModule):\n",
        "    def __init__(self, pad_val, num_chars: int, activation: str=\"leaky_relu\", dropout: float=0.2):\n",
        "        super(CNNmodel, self).__init__()\n",
        "\n",
        "        self.pad_val = pad_val\n",
        "\n",
        "        self.rb1 = ResidualBlock(3, 16, skip_conv=True, stride=1, activation=activation, dropout=dropout)\n",
        "        self.rb2 = ResidualBlock(16, 16, skip_conv=True, stride=2, activation=activation, dropout=dropout)\n",
        "        self.rb3 = ResidualBlock(16, 16, skip_conv=False, stride=1, activation=activation, dropout=dropout)\n",
        "        self.rb4 = ResidualBlock(16, 32, skip_conv=True, stride=2, activation=activation, dropout=dropout)\n",
        "        self.rb5 = ResidualBlock(32, 32, skip_conv=False, stride=1, activation=activation, dropout=dropout)\n",
        "        self.rb6 = ResidualBlock(32, 64, skip_conv=True, stride=2, activation=activation, dropout=dropout)\n",
        "        self.rb7 = ResidualBlock(64, 64, skip_conv=True, stride=1, activation=activation, dropout=dropout)\n",
        "        self.rb8 = ResidualBlock(64, 64, skip_conv=False, stride=1, activation=activation, dropout=dropout)\n",
        "        self.rb9 = ResidualBlock(64, 64, skip_conv=False, stride=1, activation=activation, dropout=dropout)\n",
        "\n",
        "        self.lstm = nn.LSTM(64, 128, bidirectional=True, num_layers=1, batch_first=True)\n",
        "        self.lstm_dropout = nn.Dropout(p=dropout)\n",
        "\n",
        "        self.output = nn.Linear(256, num_chars + 1)\n",
        "\n",
        "    def forward(self, images: torch.Tensor) -> torch.Tensor:\n",
        "        images_float = images / 255.0\n",
        "        #images_float = images_float.permute(0, 3, 1, 2)\n",
        "\n",
        "        #print(f\"Shape after initial processing: {images_float.shape}\")\n",
        "\n",
        "#------------------------------------------------------------------------------\n",
        "        x = self.rb1(images_float)\n",
        "        #print(f\"After rb1 Shape: {x.shape}\")\n",
        "        x = self.rb2(x)\n",
        "        #print(f\"After rb2 Shape: {x.shape}\")\n",
        "        x = self.rb3(x)\n",
        "        #print(f\"After rb3 Shape: {x.shape}\")\n",
        "        x = self.rb4(x)\n",
        "        #print(f\"After rb4 Shape: {x.shape}\")\n",
        "        x = self.rb5(x)\n",
        "        #print(f\"After rb5 Shape: {x.shape}\")\n",
        "        x = self.rb6(x)\n",
        "        #print(f\"After rb6 Shape: {x.shape}\")\n",
        "        x = self.rb7(x)\n",
        "        #print(f\"After rb7 Shape: {x.shape}\")\n",
        "        x = self.rb8(x)\n",
        "        #print(f\"After rb8 Shape: {x.shape}\")\n",
        "        x = self.rb9(x)\n",
        "        #print(f\"After rb9 Shape: {x.shape}\")\n",
        "\n",
        "        x = x.reshape(x.size(0), -1, x.size(1))\n",
        "        #print(f\"After Reshape Shape: {x.shape}\")\n",
        "\n",
        "        x, _ = self.lstm(x)\n",
        "        x = self.lstm_dropout(x)\n",
        "        #print(f\"After LSTM Shape: {x.shape}\")\n",
        "\n",
        "        x = self.output(x)\n",
        "        x = F.log_softmax(x, 2)\n",
        "        #print(f\"Final Output Shape: {x.shape}\")\n",
        "#------------------------------------------------------------------------------\n",
        "\n",
        "        return x\n",
        "\n",
        "    def training_step(self, batch, batch_idx):\n",
        "        images, targets = batch\n",
        "\n",
        "        outputs = self(images)\n",
        "\n",
        "        target_lengths = torch.sum(targets != self.pad_val, dim=1)\n",
        "\n",
        "        targets_unpadded = targets[targets != self.pad_val].view(-1)\n",
        "\n",
        "        outputs = outputs.permute(1, 0, 2)  # (sequence_length, batch_size, num_classes)\n",
        "        outputs_lengths = torch.full(size=(outputs.size(1),), fill_value=outputs.size(0), dtype=torch.long)\n",
        "\n",
        "        #print('Input lenghts tr', len(outputs_lengths))\n",
        "        loss = F.ctc_loss(outputs, targets_unpadded, outputs_lengths, target_lengths, blank = self.pad_val)\n",
        "        self.log('train_loss', loss, on_step=True, on_epoch=True, prog_bar=True, logger=True)\n",
        "        return loss\n",
        "\n",
        "    def validation_step(self, batch, batch_idx):\n",
        "        images, targets = batch\n",
        "\n",
        "        outputs = self(images)\n",
        "\n",
        "        target_lengths = torch.sum(targets != self.pad_val, dim=1)\n",
        "\n",
        "        targets_unpadded = targets[targets != self.pad_val].view(-1)\n",
        "\n",
        "        outputs = outputs.permute(1, 0, 2)  # (sequence_length, batch_size, num_classes)\n",
        "        outputs_lengths = torch.full(size=(outputs.size(1),), fill_value=outputs.size(0), dtype=torch.long)\n",
        "\n",
        "        #print('Input lenghts val', len(outputs_lengths))\n",
        "        loss = F.ctc_loss(outputs, targets_unpadded, outputs_lengths, target_lengths, blank = self.pad_val)\n",
        "        self.log('val_loss', loss, on_step=True, on_epoch=True, prog_bar=True, logger=True)\n",
        "        return loss\n",
        "\n",
        "    def configure_optimizers(self):\n",
        "        optimizer = torch.optim.Adam(self.parameters(), lr=1e-3)\n",
        "        return optimizer"
      ]
    },
    {
      "cell_type": "code",
      "execution_count": 14,
      "metadata": {
        "colab": {
          "base_uri": "https://localhost:8080/"
        },
        "id": "Pd69qarh2Unf",
        "outputId": "fc1d52b6-7192-470e-9df1-1d379b59b727"
      },
      "outputs": [
        {
          "output_type": "stream",
          "name": "stdout",
          "text": [
            "True\n"
          ]
        }
      ],
      "source": [
        "print(torch.cuda.is_available())"
      ]
    },
    {
      "cell_type": "markdown",
      "metadata": {
        "id": "GPujMt4XeUa9"
      },
      "source": [
        "#Train model"
      ]
    },
    {
      "cell_type": "code",
      "execution_count": 17,
      "metadata": {
        "colab": {
          "base_uri": "https://localhost:8080/",
          "height": 1000,
          "referenced_widgets": [
            "2c2c7e44dd3e4385b336605812f85071",
            "eb64b051200a4249a3d443203c16aa4e",
            "0d57582c72064e4aa72ebf07df2e5fe3",
            "36eae87f55454b07aac5edbff0aaae86",
            "b8dbb580e53f419baf62450fea61558f",
            "9515a9876ae24c9aa2d6ca7588a20865",
            "56570ffd1cb0471ba665d81827c2ec29",
            "c18854e6ad7d44efba9d0e3c1a552610",
            "e546266861ba45a8884afe12d1652dc6",
            "b6823bafbb6a425f8da28a568be8272c",
            "b287877b207f4411bf24af7a753ee410",
            "1f83277f976e4010bc4e0e47456b480f",
            "ad2d5c0439f04c9ab5466399feb05af1",
            "750b709f2cf24e799e8d046f68eb5e3f",
            "db3e49fe37d64b2db432e9e82639b8b3",
            "83ba5062bc7f48338a43914fe4a09b48",
            "3fd74dd5b4a54eb4b082f9b880c39c61",
            "60f6a3b6c4914aa0a2fb03032bb48561",
            "c94ace269737452fa423df02609fe0a9",
            "e68df78d9f494becacaa888548ddd7f6",
            "b6eeec70a1774d2ba1e571b3ed8ba5b7",
            "e66b2b2689d54c8ca3ada353b1f175a0",
            "0b33835d7d724fc3be178140f3086614",
            "9a3d3387faf046dd98cbd3c470fd67d7",
            "f143ac4602ae4f0a8ed8d17ad7b1e869",
            "1395ffe39adc446283fb3c7e81ffd885",
            "f55307bf7acc4e5db9fcf2385034e9c4",
            "edc5fbfd1b4a4599b3f2ce8d629d866d",
            "c73e55f23dba46f28b78e67c5c62192d",
            "ce07df00c34343f7898d268dd3f60edb",
            "4ee3638cd16a43f2b231cb51dfa1172a",
            "8e006f81864c4d569a9ec033acc6d6c2",
            "18ce598bab704e18821f7abae5b56e66"
          ]
        },
        "id": "-G0F1ZMycm8n",
        "outputId": "58c1b710-e6e4-40fe-be78-cebbf2123b69"
      },
      "outputs": [
        {
          "output_type": "stream",
          "name": "stderr",
          "text": [
            "INFO: GPU available: True (cuda), used: True\n",
            "INFO:lightning.pytorch.utilities.rank_zero:GPU available: True (cuda), used: True\n",
            "INFO: TPU available: False, using: 0 TPU cores\n",
            "INFO:lightning.pytorch.utilities.rank_zero:TPU available: False, using: 0 TPU cores\n",
            "INFO: IPU available: False, using: 0 IPUs\n",
            "INFO:lightning.pytorch.utilities.rank_zero:IPU available: False, using: 0 IPUs\n",
            "INFO: HPU available: False, using: 0 HPUs\n",
            "INFO:lightning.pytorch.utilities.rank_zero:HPU available: False, using: 0 HPUs\n",
            "INFO: LOCAL_RANK: 0 - CUDA_VISIBLE_DEVICES: [0]\n",
            "INFO:lightning.pytorch.accelerators.cuda:LOCAL_RANK: 0 - CUDA_VISIBLE_DEVICES: [0]\n"
          ]
        },
        {
          "output_type": "stream",
          "name": "stdout",
          "text": [
            "Testing DataLoader...\n"
          ]
        },
        {
          "output_type": "stream",
          "name": "stderr",
          "text": [
            "INFO: \n",
            "   | Name         | Type          | Params\n",
            "------------------------------------------------\n",
            "0  | rb1          | ResidualBlock | 2.9 K \n",
            "1  | rb2          | ResidualBlock | 5.0 K \n",
            "2  | rb3          | ResidualBlock | 4.7 K \n",
            "3  | rb4          | ResidualBlock | 14.6 K\n",
            "4  | rb5          | ResidualBlock | 18.6 K\n",
            "5  | rb6          | ResidualBlock | 57.8 K\n",
            "6  | rb7          | ResidualBlock | 74.1 K\n",
            "7  | rb8          | ResidualBlock | 74.1 K\n",
            "8  | rb9          | ResidualBlock | 74.1 K\n",
            "9  | lstm         | LSTM          | 198 K \n",
            "10 | lstm_dropout | Dropout       | 0     \n",
            "11 | output       | Linear        | 20.3 K\n",
            "------------------------------------------------\n",
            "544 K     Trainable params\n",
            "0         Non-trainable params\n",
            "544 K     Total params\n",
            "2.179     Total estimated model params size (MB)\n",
            "INFO:lightning.pytorch.callbacks.model_summary:\n",
            "   | Name         | Type          | Params\n",
            "------------------------------------------------\n",
            "0  | rb1          | ResidualBlock | 2.9 K \n",
            "1  | rb2          | ResidualBlock | 5.0 K \n",
            "2  | rb3          | ResidualBlock | 4.7 K \n",
            "3  | rb4          | ResidualBlock | 14.6 K\n",
            "4  | rb5          | ResidualBlock | 18.6 K\n",
            "5  | rb6          | ResidualBlock | 57.8 K\n",
            "6  | rb7          | ResidualBlock | 74.1 K\n",
            "7  | rb8          | ResidualBlock | 74.1 K\n",
            "8  | rb9          | ResidualBlock | 74.1 K\n",
            "9  | lstm         | LSTM          | 198 K \n",
            "10 | lstm_dropout | Dropout       | 0     \n",
            "11 | output       | Linear        | 20.3 K\n",
            "------------------------------------------------\n",
            "544 K     Trainable params\n",
            "0         Non-trainable params\n",
            "544 K     Total params\n",
            "2.179     Total estimated model params size (MB)\n"
          ]
        },
        {
          "output_type": "display_data",
          "data": {
            "text/plain": [
              "Sanity Checking: |          | 0/? [00:00<?, ?it/s]"
            ],
            "application/vnd.jupyter.widget-view+json": {
              "version_major": 2,
              "version_minor": 0,
              "model_id": "2c2c7e44dd3e4385b336605812f85071"
            }
          },
          "metadata": {}
        },
        {
          "output_type": "stream",
          "name": "stdout",
          "text": [
            "Validation Dataloader called\n",
            "Train Dataloader called\n"
          ]
        },
        {
          "output_type": "display_data",
          "data": {
            "text/plain": [
              "Training: |          | 0/? [00:00<?, ?it/s]"
            ],
            "application/vnd.jupyter.widget-view+json": {
              "version_major": 2,
              "version_minor": 0,
              "model_id": "1f83277f976e4010bc4e0e47456b480f"
            }
          },
          "metadata": {}
        },
        {
          "output_type": "display_data",
          "data": {
            "text/plain": [
              "Validation: |          | 0/? [00:00<?, ?it/s]"
            ],
            "application/vnd.jupyter.widget-view+json": {
              "version_major": 2,
              "version_minor": 0,
              "model_id": "0b33835d7d724fc3be178140f3086614"
            }
          },
          "metadata": {}
        },
        {
          "output_type": "stream",
          "name": "stderr",
          "text": [
            "INFO: `Trainer.fit` stopped: `max_epochs=1` reached.\n",
            "INFO:lightning.pytorch.utilities.rank_zero:`Trainer.fit` stopped: `max_epochs=1` reached.\n"
          ]
        }
      ],
      "source": [
        "# Initialize the model and data module\n",
        "data_module = TextRecognitionDataModule(dataset, vocab, max_len)\n",
        "model = CNNmodel(pad_val = 0, num_chars=len(vocab))\n",
        "'''len(data_module.train_dataset.vocab)'''\n",
        "\n",
        "# Prepare the data module for training\n",
        "data_module.setup('train')\n",
        "\n",
        "#------------------------------------------------------------------------------\n",
        "# Test DataLoader\n",
        "\n",
        "print(\"Testing DataLoader...\")\n",
        "#------------------------------------------------------------------------------\n",
        "\n",
        "# Get the number of available GPUs, else use CPU\n",
        "ngpus = torch.cuda.device_count() if torch.cuda.is_available() else 1\n",
        "\n",
        "logger = CSVLogger(\"logs\", name=\"TextRecognition\")\n",
        "\n",
        "# Train and Validate the model\n",
        "trainer = pl.Trainer(logger=CSVLogger(\"logs\", name=\"TextRecognition\"), devices=ngpus, accelerator=\"gpu\" if ngpus > 0 else None, max_epochs=1)\n",
        "trainer.fit(model, data_module)"
      ]
    },
    {
      "cell_type": "code",
      "execution_count": 19,
      "metadata": {
        "id": "WKA_yN6z11GP",
        "colab": {
          "base_uri": "https://localhost:8080/",
          "height": 407
        },
        "outputId": "b3ed3d3d-aca3-4acd-d1e3-7744b0d5baeb"
      },
      "outputs": [
        {
          "output_type": "display_data",
          "data": {
            "text/plain": [
              "<Figure size 1000x400 with 1 Axes>"
            ],
            "image/png": "[encoded data removed]"
          },
          "metadata": {}
        }
      ],
      "source": [
        "log_dir = 'version_1'\n",
        "\n",
        "def plot_csv_losses(df_cleaned):\n",
        "    fig = plt.figure(figsize=(10, 4))\n",
        "    plt.plot(df_cleaned['epoch'], df_cleaned['train_loss_epoch'], label='Training Loss', c='b')\n",
        "    plt.plot(df_cleaned['epoch'], df_cleaned['val_loss_epoch'], label='Validation Loss', c='r')\n",
        "    plt.yscale('log')\n",
        "    plt.xlabel('Epochs')\n",
        "    plt.ylabel('Loss')\n",
        "    plt.legend()\n",
        "    plt.tight_layout()\n",
        "    plt.show()\n",
        "\n",
        "log_file = f'/content/logs/TextRecognition/{log_dir}/metrics.csv'\n",
        "df = pd.read_csv(log_file)\n",
        "df_grouped = df.groupby('epoch').first().reset_index()\n",
        "plot_csv_losses(df_grouped)"
      ]
    },
    {
      "cell_type": "code",
      "execution_count": 20,
      "metadata": {
        "id": "g4WO_EDvcDqt",
        "colab": {
          "base_uri": "https://localhost:8080/"
        },
        "outputId": "84b63bb4-3616-45cf-9030-631bbd9aa555"
      },
      "outputs": [
        {
          "output_type": "stream",
          "name": "stdout",
          "text": [
            "Collecting python-Levenshtein\n",
            "  Downloading python_Levenshtein-0.23.0-py3-none-any.whl (9.4 kB)\n",
            "Collecting Levenshtein==0.23.0 (from python-Levenshtein)\n",
            "  Downloading Levenshtein-0.23.0-cp310-cp310-manylinux_2_17_x86_64.manylinux2014_x86_64.whl (169 kB)\n",
            "\u001b[2K     \u001b[90m━━━━━━━━━━━━━━━━━━━━━━━━━━━━━━━━━━━━━━━━\u001b[0m \u001b[32m169.4/169.4 kB\u001b[0m \u001b[31m2.0 MB/s\u001b[0m eta \u001b[36m0:00:00\u001b[0m\n",
            "\u001b[?25hCollecting rapidfuzz<4.0.0,>=3.1.0 (from Levenshtein==0.23.0->python-Levenshtein)\n",
            "  Downloading rapidfuzz-3.5.2-cp310-cp310-manylinux_2_17_x86_64.manylinux2014_x86_64.whl (3.3 MB)\n",
            "\u001b[2K     \u001b[90m━━━━━━━━━━━━━━━━━━━━━━━━━━━━━━━━━━━━━━━━\u001b[0m \u001b[32m3.3/3.3 MB\u001b[0m \u001b[31m22.3 MB/s\u001b[0m eta \u001b[36m0:00:00\u001b[0m\n",
            "\u001b[?25hInstalling collected packages: rapidfuzz, Levenshtein, python-Levenshtein\n",
            "Successfully installed Levenshtein-0.23.0 python-Levenshtein-0.23.0 rapidfuzz-3.5.2\n"
          ]
        }
      ],
      "source": [
        "!pip install python-Levenshtein"
      ]
    },
    {
      "cell_type": "code",
      "execution_count": 40,
      "metadata": {
        "id": "vAyvICn02hGi",
        "colab": {
          "base_uri": "https://localhost:8080/"
        },
        "outputId": "942f61fa-55b1-4fed-fc1d-453b5f14a1a9"
      },
      "outputs": [
        {
          "output_type": "stream",
          "name": "stdout",
          "text": [
            "Train Dataloader called\n",
            "Training set accuracy: 12801/86808 correctly classified, an accuracy of 0.15%!\n",
            "Training set average CER: 0.6384\n",
            "Validation Dataloader called\n",
            "Validation set accuracy: 1440/9646 correctly classified, an accuracy of 0.15%!\n",
            "Validation set average CER: 0.6387\n"
          ]
        }
      ],
      "source": [
        "import Levenshtein\n",
        "import torch.nn.functional as F\n",
        "\n",
        "def decode_ctc(output, blank_label=0):\n",
        "    \"\"\"\n",
        "    Decodes a sequence output from a CTC network.\n",
        "\n",
        "    Args:\n",
        "        output (torch.Tensor): The output from the CTC network.\n",
        "        blank_label (int): The label used for the CTC blank symbol.\n",
        "\n",
        "    Returns:\n",
        "        list: The decoded sequence.\n",
        "    \"\"\"\n",
        "    decoded_sequences = []\n",
        "    output_argmax = output.argmax(dim=2)\n",
        "    output_argmax = output_argmax.squeeze(1).cpu().numpy()\n",
        "\n",
        "    for sequence in output_argmax:\n",
        "        # Collapse repeated characters and remove blanks\n",
        "        decoded_sequence = []\n",
        "        prev_char = None\n",
        "        for char in sequence:\n",
        "            if char != prev_char and char != blank_label:\n",
        "                decoded_sequence.append(char)\n",
        "            prev_char = char\n",
        "        decoded_sequences.append(decoded_sequence)\n",
        "\n",
        "    return decoded_sequences\n",
        "\n",
        "def correct(model, loader, blank_label=0):\n",
        "    model.eval()\n",
        "    device = next(model.parameters()).device\n",
        "\n",
        "    cer_results = []\n",
        "    correct_results = 0\n",
        "    total_results = 0\n",
        "    true_strings = []\n",
        "    pred_strings = []\n",
        "\n",
        "    with torch.no_grad():\n",
        "        for x, y in loader:\n",
        "            x = x.to(device)\n",
        "            y_hat = model(x)\n",
        "            y_hat_softmax = F.log_softmax(y_hat, 2)\n",
        "\n",
        "            y_un = []\n",
        "            for i in y:\n",
        "              unpad = i[i != blank_label]\n",
        "              if unpad == []:\n",
        "                unpad = [0]\n",
        "              y_un.append(unpad)\n",
        "            #print(y_un)\n",
        "\n",
        "            # CTC decode\n",
        "            decoded_seqs = decode_ctc(y_hat_softmax, blank_label)\n",
        "\n",
        "            for true_seq, pred_seq in zip(y_un, decoded_seqs):\n",
        "                if pred_seq == []:\n",
        "                  pred_seq = [0]\n",
        "                true_str = ''.join([str(int(c)) for c in true_seq])\n",
        "                pred_str = ''.join([str(c) for c in pred_seq])\n",
        "\n",
        "                cer = Levenshtein.distance(true_str, pred_str) / max(len(true_str), len(pred_str))\n",
        "                cer_results.append(cer)\n",
        "\n",
        "                correct_results += (true_str == pred_str)\n",
        "                total_results += 1\n",
        "\n",
        "                true_strings.append(true_str)\n",
        "                pred_strings.append(pred_str)\n",
        "\n",
        "    model.train()\n",
        "    return correct_results, total_results, cer_results, true_strings, pred_strings\n",
        "\n",
        "train_correct, train_total, train_cer, train_true_strings, train_pred_strings = correct(model, data_module.train_dataloader())\n",
        "print(f'Training set accuracy: {train_correct}/{train_total} correctly classified, an accuracy of {train_correct/train_total:.2f}%!')\n",
        "print(f'Training set average CER: {sum(train_cer) / len(train_cer):.4f}')\n",
        "\n",
        "val_correct, val_total, val_cer, val_true_strings, val_pred_strings = correct(model, data_module.val_dataloader())\n",
        "print(f'Validation set accuracy: {val_correct}/{val_total} correctly classified, an accuracy of {val_correct/val_total:.2f}%!')\n",
        "print(f'Validation set average CER: {sum(val_cer) / len(val_cer):.4f}')"
      ]
    },
    {
      "cell_type": "code",
      "execution_count": 25,
      "metadata": {
        "id": "3x5sfYVOq_CI",
        "colab": {
          "base_uri": "https://localhost:8080/"
        },
        "outputId": "80e40c5e-c7ee-4256-8f78-5d0d1e8f17fb"
      },
      "outputs": [
        {
          "output_type": "stream",
          "name": "stdout",
          "text": [
            "True: 527100000000, Predicted: 6066\n",
            "True: 665700000000, Predicted: 5266\n",
            "True: 52000000000, Predicted: 52\n",
            "True: 567356657100000, Predicted: 7452\n",
            "True: 9000000000, Predicted: 11\n"
          ]
        }
      ],
      "source": [
        "for i in range(min(5, len(train_true_strings))):\n",
        "    print(f'True: {train_true_strings[i]}, Predicted: {train_pred_strings[i]}')"
      ]
    }
  ],
  "metadata": {
    "accelerator": "GPU",
    "colab": {
      "gpuType": "T4",
      "provenance": []
    },
    "kernelspec": {
      "display_name": "Python 3",
      "name": "python3"
    },
    "language_info": {
      "codemirror_mode": {
        "name": "ipython",
        "version": 3
      },
      "file_extension": ".py",
      "mimetype": "text/x-python",
      "name": "python",
      "nbconvert_exporter": "python",
      "pygments_lexer": "ipython3",
      "version": "3.9.13"
    },
    "widgets": {
      "application/vnd.jupyter.widget-state+json": {
        "2c2c7e44dd3e4385b336605812f85071": {
          "model_module": "@jupyter-widgets/controls",
          "model_name": "HBoxModel",
          "model_module_version": "1.5.0",
          "state": {
            "_dom_classes": [],
            "_model_module": "@jupyter-widgets/controls",
            "_model_module_version": "1.5.0",
            "_model_name": "HBoxModel",
            "_view_count": null,
            "_view_module": "@jupyter-widgets/controls",
            "_view_module_version": "1.5.0",
            "_view_name": "HBoxView",
            "box_style": "",
            "children": [
              "IPY_MODEL_eb64b051200a4249a3d443203c16aa4e",
              "IPY_MODEL_0d57582c72064e4aa72ebf07df2e5fe3",
              "IPY_MODEL_36eae87f55454b07aac5edbff0aaae86"
            ],
            "layout": "IPY_MODEL_b8dbb580e53f419baf62450fea61558f"
          }
        },
        "eb64b051200a4249a3d443203c16aa4e": {
          "model_module": "@jupyter-widgets/controls",
          "model_name": "HTMLModel",
          "model_module_version": "1.5.0",
          "state": {
            "_dom_classes": [],
            "_model_module": "@jupyter-widgets/controls",
            "_model_module_version": "1.5.0",
            "_model_name": "HTMLModel",
            "_view_count": null,
            "_view_module": "@jupyter-widgets/controls",
            "_view_module_version": "1.5.0",
            "_view_name": "HTMLView",
            "description": "",
            "description_tooltip": null,
            "layout": "IPY_MODEL_9515a9876ae24c9aa2d6ca7588a20865",
            "placeholder": "​",
            "style": "IPY_MODEL_56570ffd1cb0471ba665d81827c2ec29",
            "value": "Sanity Checking DataLoader 0: 100%"
          }
        },
        "0d57582c72064e4aa72ebf07df2e5fe3": {
          "model_module": "@jupyter-widgets/controls",
          "model_name": "FloatProgressModel",
          "model_module_version": "1.5.0",
          "state": {
            "_dom_classes": [],
            "_model_module": "@jupyter-widgets/controls",
            "_model_module_version": "1.5.0",
            "_model_name": "FloatProgressModel",
            "_view_count": null,
            "_view_module": "@jupyter-widgets/controls",
            "_view_module_version": "1.5.0",
            "_view_name": "ProgressView",
            "bar_style": "",
            "description": "",
            "description_tooltip": null,
            "layout": "IPY_MODEL_c18854e6ad7d44efba9d0e3c1a552610",
            "max": 2,
            "min": 0,
            "orientation": "horizontal",
            "style": "IPY_MODEL_e546266861ba45a8884afe12d1652dc6",
            "value": 2
          }
        },
        "36eae87f55454b07aac5edbff0aaae86": {
          "model_module": "@jupyter-widgets/controls",
          "model_name": "HTMLModel",
          "model_module_version": "1.5.0",
          "state": {
            "_dom_classes": [],
            "_model_module": "@jupyter-widgets/controls",
            "_model_module_version": "1.5.0",
            "_model_name": "HTMLModel",
            "_view_count": null,
            "_view_module": "@jupyter-widgets/controls",
            "_view_module_version": "1.5.0",
            "_view_name": "HTMLView",
            "description": "",
            "description_tooltip": null,
            "layout": "IPY_MODEL_b6823bafbb6a425f8da28a568be8272c",
            "placeholder": "​",
            "style": "IPY_MODEL_b287877b207f4411bf24af7a753ee410",
            "value": " 2/2 [00:00&lt;00:00, 17.14it/s]"
          }
        },
        "b8dbb580e53f419baf62450fea61558f": {
          "model_module": "@jupyter-widgets/base",
          "model_name": "LayoutModel",
          "model_module_version": "1.2.0",
          "state": {
            "_model_module": "@jupyter-widgets/base",
            "_model_module_version": "1.2.0",
            "_model_name": "LayoutModel",
            "_view_count": null,
            "_view_module": "@jupyter-widgets/base",
            "_view_module_version": "1.2.0",
            "_view_name": "LayoutView",
            "align_content": null,
            "align_items": null,
            "align_self": null,
            "border": null,
            "bottom": null,
            "display": "inline-flex",
            "flex": null,
            "flex_flow": "row wrap",
            "grid_area": null,
            "grid_auto_columns": null,
            "grid_auto_flow": null,
            "grid_auto_rows": null,
            "grid_column": null,
            "grid_gap": null,
            "grid_row": null,
            "grid_template_areas": null,
            "grid_template_columns": null,
            "grid_template_rows": null,
            "height": null,
            "justify_content": null,
            "justify_items": null,
            "left": null,
            "margin": null,
            "max_height": null,
            "max_width": null,
            "min_height": null,
            "min_width": null,
            "object_fit": null,
            "object_position": null,
            "order": null,
            "overflow": null,
            "overflow_x": null,
            "overflow_y": null,
            "padding": null,
            "right": null,
            "top": null,
            "visibility": "hidden",
            "width": "100%"
          }
        },
        "9515a9876ae24c9aa2d6ca7588a20865": {
          "model_module": "@jupyter-widgets/base",
          "model_name": "LayoutModel",
          "model_module_version": "1.2.0",
          "state": {
            "_model_module": "@jupyter-widgets/base",
            "_model_module_version": "1.2.0",
            "_model_name": "LayoutModel",
            "_view_count": null,
            "_view_module": "@jupyter-widgets/base",
            "_view_module_version": "1.2.0",
            "_view_name": "LayoutView",
            "align_content": null,
            "align_items": null,
            "align_self": null,
            "border": null,
            "bottom": null,
            "display": null,
            "flex": null,
            "flex_flow": null,
            "grid_area": null,
            "grid_auto_columns": null,
            "grid_auto_flow": null,
            "grid_auto_rows": null,
            "grid_column": null,
            "grid_gap": null,
            "grid_row": null,
            "grid_template_areas": null,
            "grid_template_columns": null,
            "grid_template_rows": null,
            "height": null,
            "justify_content": null,
            "justify_items": null,
            "left": null,
            "margin": null,
            "max_height": null,
            "max_width": null,
            "min_height": null,
            "min_width": null,
            "object_fit": null,
            "object_position": null,
            "order": null,
            "overflow": null,
            "overflow_x": null,
            "overflow_y": null,
            "padding": null,
            "right": null,
            "top": null,
            "visibility": null,
            "width": null
          }
        },
        "56570ffd1cb0471ba665d81827c2ec29": {
          "model_module": "@jupyter-widgets/controls",
          "model_name": "DescriptionStyleModel",
          "model_module_version": "1.5.0",
          "state": {
            "_model_module": "@jupyter-widgets/controls",
            "_model_module_version": "1.5.0",
            "_model_name": "DescriptionStyleModel",
            "_view_count": null,
            "_view_module": "@jupyter-widgets/base",
            "_view_module_version": "1.2.0",
            "_view_name": "StyleView",
            "description_width": ""
          }
        },
        "c18854e6ad7d44efba9d0e3c1a552610": {
          "model_module": "@jupyter-widgets/base",
          "model_name": "LayoutModel",
          "model_module_version": "1.2.0",
          "state": {
            "_model_module": "@jupyter-widgets/base",
            "_model_module_version": "1.2.0",
            "_model_name": "LayoutModel",
            "_view_count": null,
            "_view_module": "@jupyter-widgets/base",
            "_view_module_version": "1.2.0",
            "_view_name": "LayoutView",
            "align_content": null,
            "align_items": null,
            "align_self": null,
            "border": null,
            "bottom": null,
            "display": null,
            "flex": "2",
            "flex_flow": null,
            "grid_area": null,
            "grid_auto_columns": null,
            "grid_auto_flow": null,
            "grid_auto_rows": null,
            "grid_column": null,
            "grid_gap": null,
            "grid_row": null,
            "grid_template_areas": null,
            "grid_template_columns": null,
            "grid_template_rows": null,
            "height": null,
            "justify_content": null,
            "justify_items": null,
            "left": null,
            "margin": null,
            "max_height": null,
            "max_width": null,
            "min_height": null,
            "min_width": null,
            "object_fit": null,
            "object_position": null,
            "order": null,
            "overflow": null,
            "overflow_x": null,
            "overflow_y": null,
            "padding": null,
            "right": null,
            "top": null,
            "visibility": null,
            "width": null
          }
        },
        "e546266861ba45a8884afe12d1652dc6": {
          "model_module": "@jupyter-widgets/controls",
          "model_name": "ProgressStyleModel",
          "model_module_version": "1.5.0",
          "state": {
            "_model_module": "@jupyter-widgets/controls",
            "_model_module_version": "1.5.0",
            "_model_name": "ProgressStyleModel",
            "_view_count": null,
            "_view_module": "@jupyter-widgets/base",
            "_view_module_version": "1.2.0",
            "_view_name": "StyleView",
            "bar_color": null,
            "description_width": ""
          }
        },
        "b6823bafbb6a425f8da28a568be8272c": {
          "model_module": "@jupyter-widgets/base",
          "model_name": "LayoutModel",
          "model_module_version": "1.2.0",
          "state": {
            "_model_module": "@jupyter-widgets/base",
            "_model_module_version": "1.2.0",
            "_model_name": "LayoutModel",
            "_view_count": null,
            "_view_module": "@jupyter-widgets/base",
            "_view_module_version": "1.2.0",
            "_view_name": "LayoutView",
            "align_content": null,
            "align_items": null,
            "align_self": null,
            "border": null,
            "bottom": null,
            "display": null,
            "flex": null,
            "flex_flow": null,
            "grid_area": null,
            "grid_auto_columns": null,
            "grid_auto_flow": null,
            "grid_auto_rows": null,
            "grid_column": null,
            "grid_gap": null,
            "grid_row": null,
            "grid_template_areas": null,
            "grid_template_columns": null,
            "grid_template_rows": null,
            "height": null,
            "justify_content": null,
            "justify_items": null,
            "left": null,
            "margin": null,
            "max_height": null,
            "max_width": null,
            "min_height": null,
            "min_width": null,
            "object_fit": null,
            "object_position": null,
            "order": null,
            "overflow": null,
            "overflow_x": null,
            "overflow_y": null,
            "padding": null,
            "right": null,
            "top": null,
            "visibility": null,
            "width": null
          }
        },
        "b287877b207f4411bf24af7a753ee410": {
          "model_module": "@jupyter-widgets/controls",
          "model_name": "DescriptionStyleModel",
          "model_module_version": "1.5.0",
          "state": {
            "_model_module": "@jupyter-widgets/controls",
            "_model_module_version": "1.5.0",
            "_model_name": "DescriptionStyleModel",
            "_view_count": null,
            "_view_module": "@jupyter-widgets/base",
            "_view_module_version": "1.2.0",
            "_view_name": "StyleView",
            "description_width": ""
          }
        },
        "1f83277f976e4010bc4e0e47456b480f": {
          "model_module": "@jupyter-widgets/controls",
          "model_name": "HBoxModel",
          "model_module_version": "1.5.0",
          "state": {
            "_dom_classes": [],
            "_model_module": "@jupyter-widgets/controls",
            "_model_module_version": "1.5.0",
            "_model_name": "HBoxModel",
            "_view_count": null,
            "_view_module": "@jupyter-widgets/controls",
            "_view_module_version": "1.5.0",
            "_view_name": "HBoxView",
            "box_style": "",
            "children": [
              "IPY_MODEL_ad2d5c0439f04c9ab5466399feb05af1",
              "IPY_MODEL_750b709f2cf24e799e8d046f68eb5e3f",
              "IPY_MODEL_db3e49fe37d64b2db432e9e82639b8b3"
            ],
            "layout": "IPY_MODEL_83ba5062bc7f48338a43914fe4a09b48"
          }
        },
        "ad2d5c0439f04c9ab5466399feb05af1": {
          "model_module": "@jupyter-widgets/controls",
          "model_name": "HTMLModel",
          "model_module_version": "1.5.0",
          "state": {
            "_dom_classes": [],
            "_model_module": "@jupyter-widgets/controls",
            "_model_module_version": "1.5.0",
            "_model_name": "HTMLModel",
            "_view_count": null,
            "_view_module": "@jupyter-widgets/controls",
            "_view_module_version": "1.5.0",
            "_view_name": "HTMLView",
            "description": "",
            "description_tooltip": null,
            "layout": "IPY_MODEL_3fd74dd5b4a54eb4b082f9b880c39c61",
            "placeholder": "​",
            "style": "IPY_MODEL_60f6a3b6c4914aa0a2fb03032bb48561",
            "value": "Epoch 0: 100%"
          }
        },
        "750b709f2cf24e799e8d046f68eb5e3f": {
          "model_module": "@jupyter-widgets/controls",
          "model_name": "FloatProgressModel",
          "model_module_version": "1.5.0",
          "state": {
            "_dom_classes": [],
            "_model_module": "@jupyter-widgets/controls",
            "_model_module_version": "1.5.0",
            "_model_name": "FloatProgressModel",
            "_view_count": null,
            "_view_module": "@jupyter-widgets/controls",
            "_view_module_version": "1.5.0",
            "_view_name": "ProgressView",
            "bar_style": "success",
            "description": "",
            "description_tooltip": null,
            "layout": "IPY_MODEL_c94ace269737452fa423df02609fe0a9",
            "max": 5426,
            "min": 0,
            "orientation": "horizontal",
            "style": "IPY_MODEL_e68df78d9f494becacaa888548ddd7f6",
            "value": 5426
          }
        },
        "db3e49fe37d64b2db432e9e82639b8b3": {
          "model_module": "@jupyter-widgets/controls",
          "model_name": "HTMLModel",
          "model_module_version": "1.5.0",
          "state": {
            "_dom_classes": [],
            "_model_module": "@jupyter-widgets/controls",
            "_model_module_version": "1.5.0",
            "_model_name": "HTMLModel",
            "_view_count": null,
            "_view_module": "@jupyter-widgets/controls",
            "_view_module_version": "1.5.0",
            "_view_name": "HTMLView",
            "description": "",
            "description_tooltip": null,
            "layout": "IPY_MODEL_b6eeec70a1774d2ba1e571b3ed8ba5b7",
            "placeholder": "​",
            "style": "IPY_MODEL_e66b2b2689d54c8ca3ada353b1f175a0",
            "value": " 5426/5426 [03:40&lt;00:00, 24.63it/s, v_num=1, train_loss_step=1.980, val_loss_step=2.630, val_loss_epoch=2.650, train_loss_epoch=3.130]"
          }
        },
        "83ba5062bc7f48338a43914fe4a09b48": {
          "model_module": "@jupyter-widgets/base",
          "model_name": "LayoutModel",
          "model_module_version": "1.2.0",
          "state": {
            "_model_module": "@jupyter-widgets/base",
            "_model_module_version": "1.2.0",
            "_model_name": "LayoutModel",
            "_view_count": null,
            "_view_module": "@jupyter-widgets/base",
            "_view_module_version": "1.2.0",
            "_view_name": "LayoutView",
            "align_content": null,
            "align_items": null,
            "align_self": null,
            "border": null,
            "bottom": null,
            "display": "inline-flex",
            "flex": null,
            "flex_flow": "row wrap",
            "grid_area": null,
            "grid_auto_columns": null,
            "grid_auto_flow": null,
            "grid_auto_rows": null,
            "grid_column": null,
            "grid_gap": null,
            "grid_row": null,
            "grid_template_areas": null,
            "grid_template_columns": null,
            "grid_template_rows": null,
            "height": null,
            "justify_content": null,
            "justify_items": null,
            "left": null,
            "margin": null,
            "max_height": null,
            "max_width": null,
            "min_height": null,
            "min_width": null,
            "object_fit": null,
            "object_position": null,
            "order": null,
            "overflow": null,
            "overflow_x": null,
            "overflow_y": null,
            "padding": null,
            "right": null,
            "top": null,
            "visibility": null,
            "width": "100%"
          }
        },
        "3fd74dd5b4a54eb4b082f9b880c39c61": {
          "model_module": "@jupyter-widgets/base",
          "model_name": "LayoutModel",
          "model_module_version": "1.2.0",
          "state": {
            "_model_module": "@jupyter-widgets/base",
            "_model_module_version": "1.2.0",
            "_model_name": "LayoutModel",
            "_view_count": null,
            "_view_module": "@jupyter-widgets/base",
            "_view_module_version": "1.2.0",
            "_view_name": "LayoutView",
            "align_content": null,
            "align_items": null,
            "align_self": null,
            "border": null,
            "bottom": null,
            "display": null,
            "flex": null,
            "flex_flow": null,
            "grid_area": null,
            "grid_auto_columns": null,
            "grid_auto_flow": null,
            "grid_auto_rows": null,
            "grid_column": null,
            "grid_gap": null,
            "grid_row": null,
            "grid_template_areas": null,
            "grid_template_columns": null,
            "grid_template_rows": null,
            "height": null,
            "justify_content": null,
            "justify_items": null,
            "left": null,
            "margin": null,
            "max_height": null,
            "max_width": null,
            "min_height": null,
            "min_width": null,
            "object_fit": null,
            "object_position": null,
            "order": null,
            "overflow": null,
            "overflow_x": null,
            "overflow_y": null,
            "padding": null,
            "right": null,
            "top": null,
            "visibility": null,
            "width": null
          }
        },
        "60f6a3b6c4914aa0a2fb03032bb48561": {
          "model_module": "@jupyter-widgets/controls",
          "model_name": "DescriptionStyleModel",
          "model_module_version": "1.5.0",
          "state": {
            "_model_module": "@jupyter-widgets/controls",
            "_model_module_version": "1.5.0",
            "_model_name": "DescriptionStyleModel",
            "_view_count": null,
            "_view_module": "@jupyter-widgets/base",
            "_view_module_version": "1.2.0",
            "_view_name": "StyleView",
            "description_width": ""
          }
        },
        "c94ace269737452fa423df02609fe0a9": {
          "model_module": "@jupyter-widgets/base",
          "model_name": "LayoutModel",
          "model_module_version": "1.2.0",
          "state": {
            "_model_module": "@jupyter-widgets/base",
            "_model_module_version": "1.2.0",
            "_model_name": "LayoutModel",
            "_view_count": null,
            "_view_module": "@jupyter-widgets/base",
            "_view_module_version": "1.2.0",
            "_view_name": "LayoutView",
            "align_content": null,
            "align_items": null,
            "align_self": null,
            "border": null,
            "bottom": null,
            "display": null,
            "flex": "2",
            "flex_flow": null,
            "grid_area": null,
            "grid_auto_columns": null,
            "grid_auto_flow": null,
            "grid_auto_rows": null,
            "grid_column": null,
            "grid_gap": null,
            "grid_row": null,
            "grid_template_areas": null,
            "grid_template_columns": null,
            "grid_template_rows": null,
            "height": null,
            "justify_content": null,
            "justify_items": null,
            "left": null,
            "margin": null,
            "max_height": null,
            "max_width": null,
            "min_height": null,
            "min_width": null,
            "object_fit": null,
            "object_position": null,
            "order": null,
            "overflow": null,
            "overflow_x": null,
            "overflow_y": null,
            "padding": null,
            "right": null,
            "top": null,
            "visibility": null,
            "width": null
          }
        },
        "e68df78d9f494becacaa888548ddd7f6": {
          "model_module": "@jupyter-widgets/controls",
          "model_name": "ProgressStyleModel",
          "model_module_version": "1.5.0",
          "state": {
            "_model_module": "@jupyter-widgets/controls",
            "_model_module_version": "1.5.0",
            "_model_name": "ProgressStyleModel",
            "_view_count": null,
            "_view_module": "@jupyter-widgets/base",
            "_view_module_version": "1.2.0",
            "_view_name": "StyleView",
            "bar_color": null,
            "description_width": ""
          }
        },
        "b6eeec70a1774d2ba1e571b3ed8ba5b7": {
          "model_module": "@jupyter-widgets/base",
          "model_name": "LayoutModel",
          "model_module_version": "1.2.0",
          "state": {
            "_model_module": "@jupyter-widgets/base",
            "_model_module_version": "1.2.0",
            "_model_name": "LayoutModel",
            "_view_count": null,
            "_view_module": "@jupyter-widgets/base",
            "_view_module_version": "1.2.0",
            "_view_name": "LayoutView",
            "align_content": null,
            "align_items": null,
            "align_self": null,
            "border": null,
            "bottom": null,
            "display": null,
            "flex": null,
            "flex_flow": null,
            "grid_area": null,
            "grid_auto_columns": null,
            "grid_auto_flow": null,
            "grid_auto_rows": null,
            "grid_column": null,
            "grid_gap": null,
            "grid_row": null,
            "grid_template_areas": null,
            "grid_template_columns": null,
            "grid_template_rows": null,
            "height": null,
            "justify_content": null,
            "justify_items": null,
            "left": null,
            "margin": null,
            "max_height": null,
            "max_width": null,
            "min_height": null,
            "min_width": null,
            "object_fit": null,
            "object_position": null,
            "order": null,
            "overflow": null,
            "overflow_x": null,
            "overflow_y": null,
            "padding": null,
            "right": null,
            "top": null,
            "visibility": null,
            "width": null
          }
        },
        "e66b2b2689d54c8ca3ada353b1f175a0": {
          "model_module": "@jupyter-widgets/controls",
          "model_name": "DescriptionStyleModel",
          "model_module_version": "1.5.0",
          "state": {
            "_model_module": "@jupyter-widgets/controls",
            "_model_module_version": "1.5.0",
            "_model_name": "DescriptionStyleModel",
            "_view_count": null,
            "_view_module": "@jupyter-widgets/base",
            "_view_module_version": "1.2.0",
            "_view_name": "StyleView",
            "description_width": ""
          }
        },
        "0b33835d7d724fc3be178140f3086614": {
          "model_module": "@jupyter-widgets/controls",
          "model_name": "HBoxModel",
          "model_module_version": "1.5.0",
          "state": {
            "_dom_classes": [],
            "_model_module": "@jupyter-widgets/controls",
            "_model_module_version": "1.5.0",
            "_model_name": "HBoxModel",
            "_view_count": null,
            "_view_module": "@jupyter-widgets/controls",
            "_view_module_version": "1.5.0",
            "_view_name": "HBoxView",
            "box_style": "",
            "children": [
              "IPY_MODEL_9a3d3387faf046dd98cbd3c470fd67d7",
              "IPY_MODEL_f143ac4602ae4f0a8ed8d17ad7b1e869",
              "IPY_MODEL_1395ffe39adc446283fb3c7e81ffd885"
            ],
            "layout": "IPY_MODEL_f55307bf7acc4e5db9fcf2385034e9c4"
          }
        },
        "9a3d3387faf046dd98cbd3c470fd67d7": {
          "model_module": "@jupyter-widgets/controls",
          "model_name": "HTMLModel",
          "model_module_version": "1.5.0",
          "state": {
            "_dom_classes": [],
            "_model_module": "@jupyter-widgets/controls",
            "_model_module_version": "1.5.0",
            "_model_name": "HTMLModel",
            "_view_count": null,
            "_view_module": "@jupyter-widgets/controls",
            "_view_module_version": "1.5.0",
            "_view_name": "HTMLView",
            "description": "",
            "description_tooltip": null,
            "layout": "IPY_MODEL_edc5fbfd1b4a4599b3f2ce8d629d866d",
            "placeholder": "​",
            "style": "IPY_MODEL_c73e55f23dba46f28b78e67c5c62192d",
            "value": "Validation DataLoader 0: 100%"
          }
        },
        "f143ac4602ae4f0a8ed8d17ad7b1e869": {
          "model_module": "@jupyter-widgets/controls",
          "model_name": "FloatProgressModel",
          "model_module_version": "1.5.0",
          "state": {
            "_dom_classes": [],
            "_model_module": "@jupyter-widgets/controls",
            "_model_module_version": "1.5.0",
            "_model_name": "FloatProgressModel",
            "_view_count": null,
            "_view_module": "@jupyter-widgets/controls",
            "_view_module_version": "1.5.0",
            "_view_name": "ProgressView",
            "bar_style": "",
            "description": "",
            "description_tooltip": null,
            "layout": "IPY_MODEL_ce07df00c34343f7898d268dd3f60edb",
            "max": 603,
            "min": 0,
            "orientation": "horizontal",
            "style": "IPY_MODEL_4ee3638cd16a43f2b231cb51dfa1172a",
            "value": 603
          }
        },
        "1395ffe39adc446283fb3c7e81ffd885": {
          "model_module": "@jupyter-widgets/controls",
          "model_name": "HTMLModel",
          "model_module_version": "1.5.0",
          "state": {
            "_dom_classes": [],
            "_model_module": "@jupyter-widgets/controls",
            "_model_module_version": "1.5.0",
            "_model_name": "HTMLModel",
            "_view_count": null,
            "_view_module": "@jupyter-widgets/controls",
            "_view_module_version": "1.5.0",
            "_view_name": "HTMLView",
            "description": "",
            "description_tooltip": null,
            "layout": "IPY_MODEL_8e006f81864c4d569a9ec033acc6d6c2",
            "placeholder": "​",
            "style": "IPY_MODEL_18ce598bab704e18821f7abae5b56e66",
            "value": " 603/603 [00:13&lt;00:00, 43.26it/s]"
          }
        },
        "f55307bf7acc4e5db9fcf2385034e9c4": {
          "model_module": "@jupyter-widgets/base",
          "model_name": "LayoutModel",
          "model_module_version": "1.2.0",
          "state": {
            "_model_module": "@jupyter-widgets/base",
            "_model_module_version": "1.2.0",
            "_model_name": "LayoutModel",
            "_view_count": null,
            "_view_module": "@jupyter-widgets/base",
            "_view_module_version": "1.2.0",
            "_view_name": "LayoutView",
            "align_content": null,
            "align_items": null,
            "align_self": null,
            "border": null,
            "bottom": null,
            "display": "inline-flex",
            "flex": null,
            "flex_flow": "row wrap",
            "grid_area": null,
            "grid_auto_columns": null,
            "grid_auto_flow": null,
            "grid_auto_rows": null,
            "grid_column": null,
            "grid_gap": null,
            "grid_row": null,
            "grid_template_areas": null,
            "grid_template_columns": null,
            "grid_template_rows": null,
            "height": null,
            "justify_content": null,
            "justify_items": null,
            "left": null,
            "margin": null,
            "max_height": null,
            "max_width": null,
            "min_height": null,
            "min_width": null,
            "object_fit": null,
            "object_position": null,
            "order": null,
            "overflow": null,
            "overflow_x": null,
            "overflow_y": null,
            "padding": null,
            "right": null,
            "top": null,
            "visibility": "hidden",
            "width": "100%"
          }
        },
        "edc5fbfd1b4a4599b3f2ce8d629d866d": {
          "model_module": "@jupyter-widgets/base",
          "model_name": "LayoutModel",
          "model_module_version": "1.2.0",
          "state": {
            "_model_module": "@jupyter-widgets/base",
            "_model_module_version": "1.2.0",
            "_model_name": "LayoutModel",
            "_view_count": null,
            "_view_module": "@jupyter-widgets/base",
            "_view_module_version": "1.2.0",
            "_view_name": "LayoutView",
            "align_content": null,
            "align_items": null,
            "align_self": null,
            "border": null,
            "bottom": null,
            "display": null,
            "flex": null,
            "flex_flow": null,
            "grid_area": null,
            "grid_auto_columns": null,
            "grid_auto_flow": null,
            "grid_auto_rows": null,
            "grid_column": null,
            "grid_gap": null,
            "grid_row": null,
            "grid_template_areas": null,
            "grid_template_columns": null,
            "grid_template_rows": null,
            "height": null,
            "justify_content": null,
            "justify_items": null,
            "left": null,
            "margin": null,
            "max_height": null,
            "max_width": null,
            "min_height": null,
            "min_width": null,
            "object_fit": null,
            "object_position": null,
            "order": null,
            "overflow": null,
            "overflow_x": null,
            "overflow_y": null,
            "padding": null,
            "right": null,
            "top": null,
            "visibility": null,
            "width": null
          }
        },
        "c73e55f23dba46f28b78e67c5c62192d": {
          "model_module": "@jupyter-widgets/controls",
          "model_name": "DescriptionStyleModel",
          "model_module_version": "1.5.0",
          "state": {
            "_model_module": "@jupyter-widgets/controls",
            "_model_module_version": "1.5.0",
            "_model_name": "DescriptionStyleModel",
            "_view_count": null,
            "_view_module": "@jupyter-widgets/base",
            "_view_module_version": "1.2.0",
            "_view_name": "StyleView",
            "description_width": ""
          }
        },
        "ce07df00c34343f7898d268dd3f60edb": {
          "model_module": "@jupyter-widgets/base",
          "model_name": "LayoutModel",
          "model_module_version": "1.2.0",
          "state": {
            "_model_module": "@jupyter-widgets/base",
            "_model_module_version": "1.2.0",
            "_model_name": "LayoutModel",
            "_view_count": null,
            "_view_module": "@jupyter-widgets/base",
            "_view_module_version": "1.2.0",
            "_view_name": "LayoutView",
            "align_content": null,
            "align_items": null,
            "align_self": null,
            "border": null,
            "bottom": null,
            "display": null,
            "flex": "2",
            "flex_flow": null,
            "grid_area": null,
            "grid_auto_columns": null,
            "grid_auto_flow": null,
            "grid_auto_rows": null,
            "grid_column": null,
            "grid_gap": null,
            "grid_row": null,
            "grid_template_areas": null,
            "grid_template_columns": null,
            "grid_template_rows": null,
            "height": null,
            "justify_content": null,
            "justify_items": null,
            "left": null,
            "margin": null,
            "max_height": null,
            "max_width": null,
            "min_height": null,
            "min_width": null,
            "object_fit": null,
            "object_position": null,
            "order": null,
            "overflow": null,
            "overflow_x": null,
            "overflow_y": null,
            "padding": null,
            "right": null,
            "top": null,
            "visibility": null,
            "width": null
          }
        },
        "4ee3638cd16a43f2b231cb51dfa1172a": {
          "model_module": "@jupyter-widgets/controls",
          "model_name": "ProgressStyleModel",
          "model_module_version": "1.5.0",
          "state": {
            "_model_module": "@jupyter-widgets/controls",
            "_model_module_version": "1.5.0",
            "_model_name": "ProgressStyleModel",
            "_view_count": null,
            "_view_module": "@jupyter-widgets/base",
            "_view_module_version": "1.2.0",
            "_view_name": "StyleView",
            "bar_color": null,
            "description_width": ""
          }
        },
        "8e006f81864c4d569a9ec033acc6d6c2": {
          "model_module": "@jupyter-widgets/base",
          "model_name": "LayoutModel",
          "model_module_version": "1.2.0",
          "state": {
            "_model_module": "@jupyter-widgets/base",
            "_model_module_version": "1.2.0",
            "_model_name": "LayoutModel",
            "_view_count": null,
            "_view_module": "@jupyter-widgets/base",
            "_view_module_version": "1.2.0",
            "_view_name": "LayoutView",
            "align_content": null,
            "align_items": null,
            "align_self": null,
            "border": null,
            "bottom": null,
            "display": null,
            "flex": null,
            "flex_flow": null,
            "grid_area": null,
            "grid_auto_columns": null,
            "grid_auto_flow": null,
            "grid_auto_rows": null,
            "grid_column": null,
            "grid_gap": null,
            "grid_row": null,
            "grid_template_areas": null,
            "grid_template_columns": null,
            "grid_template_rows": null,
            "height": null,
            "justify_content": null,
            "justify_items": null,
            "left": null,
            "margin": null,
            "max_height": null,
            "max_width": null,
            "min_height": null,
            "min_width": null,
            "object_fit": null,
            "object_position": null,
            "order": null,
            "overflow": null,
            "overflow_x": null,
            "overflow_y": null,
            "padding": null,
            "right": null,
            "top": null,
            "visibility": null,
            "width": null
          }
        },
        "18ce598bab704e18821f7abae5b56e66": {
          "model_module": "@jupyter-widgets/controls",
          "model_name": "DescriptionStyleModel",
          "model_module_version": "1.5.0",
          "state": {
            "_model_module": "@jupyter-widgets/controls",
            "_model_module_version": "1.5.0",
            "_model_name": "DescriptionStyleModel",
            "_view_count": null,
            "_view_module": "@jupyter-widgets/base",
            "_view_module_version": "1.2.0",
            "_view_name": "StyleView",
            "description_width": ""
          }
        }
      }
    }
  },
  "nbformat": 4,
  "nbformat_minor": 0
}